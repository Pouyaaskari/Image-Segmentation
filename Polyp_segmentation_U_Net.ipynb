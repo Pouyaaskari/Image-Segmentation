{
  "nbformat": 4,
  "nbformat_minor": 0,
  "metadata": {
    "colab": {
      "name": "Polyp segmentation U-Net.ipynb",
      "provenance": [],
      "mount_file_id": "1efuc1sbyCcYTJSesaq9g7NdsAycG7tU5",
      "authorship_tag": "ABX9TyPknVdYS+59qe/zNb59Ogvi",
      "include_colab_link": true
    },
    "kernelspec": {
      "name": "python3",
      "display_name": "Python 3"
    },
    "language_info": {
      "name": "python"
    },
    "accelerator": "GPU"
  },
  "cells": [
    {
      "cell_type": "markdown",
      "metadata": {
        "id": "view-in-github",
        "colab_type": "text"
      },
      "source": [
        "<a href=\"https://colab.research.google.com/github/Pouyaaskari/Image-Segmentation/blob/master/Polyp_segmentation_U_Net.ipynb\" target=\"_parent\"><img src=\"https://colab.research.google.com/assets/colab-badge.svg\" alt=\"Open In Colab\"/></a>"
      ]
    },
    {
      "cell_type": "markdown",
      "metadata": {
        "id": "byq1-BjElQuq"
      },
      "source": [
        "#1-Importing dataset from Kaggle.com\n",
        "\n"
      ]
    },
    {
      "cell_type": "code",
      "metadata": {
        "colab": {
          "resources": {
            "http://localhost:8080/nbextensions/google.colab/files.js": {
              "data": "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",
              "ok": true,
              "headers": [
                [
                  "content-type",
                  "application/javascript"
                ]
              ],
              "status": 200,
              "status_text": ""
            }
          },
          "base_uri": "https://localhost:8080/",
          "height": 91
        },
        "id": "u9ZBXhf8FkQh",
        "outputId": "0979da15-a59d-4e81-b0ab-d6224ae52b90"
      },
      "source": [
        "!pip install -q kaggle\n",
        "from google.colab import files\n",
        "files.upload()\n",
        "# upload the json file with kaggle.json name\n",
        "! mkdir ~/.kaggle\n",
        "! cp kaggle.json ~/.kaggle/\n",
        "! chmod 600 ~/.kaggle/kaggle.json"
      ],
      "execution_count": 25,
      "outputs": [
        {
          "output_type": "display_data",
          "data": {
            "text/html": [
              "\n",
              "     <input type=\"file\" id=\"files-a85e20fc-2024-47ac-b892-6ce184605fbf\" name=\"files[]\" multiple disabled\n",
              "        style=\"border:none\" />\n",
              "     <output id=\"result-a85e20fc-2024-47ac-b892-6ce184605fbf\">\n",
              "      Upload widget is only available when the cell has been executed in the\n",
              "      current browser session. Please rerun this cell to enable.\n",
              "      </output>\n",
              "      <script src=\"/nbextensions/google.colab/files.js\"></script> "
            ],
            "text/plain": [
              "<IPython.core.display.HTML object>"
            ]
          },
          "metadata": {}
        },
        {
          "output_type": "stream",
          "name": "stdout",
          "text": [
            "Saving kaggle.json to kaggle (1).json\n",
            "mkdir: cannot create directory ‘/root/.kaggle’: File exists\n"
          ]
        }
      ]
    },
    {
      "cell_type": "code",
      "metadata": {
        "colab": {
          "base_uri": "https://localhost:8080/"
        },
        "id": "RVooPH6rIqQy",
        "outputId": "de7a8043-3a8a-41db-fe34-b38a173f0c07"
      },
      "source": [
        "!kaggle datasets download -d balraj98/cvcclinicdb"
      ],
      "execution_count": 26,
      "outputs": [
        {
          "output_type": "stream",
          "name": "stdout",
          "text": [
            "cvcclinicdb.zip: Skipping, found more recently modified local copy (use --force to force download)\n"
          ]
        }
      ]
    },
    {
      "cell_type": "code",
      "metadata": {
        "colab": {
          "base_uri": "https://localhost:8080/"
        },
        "id": "-FGvD3v0JAj6",
        "outputId": "8940490c-cafe-441c-f534-d637e73cf50a"
      },
      "source": [
        "!unzip /content/cvcclinicdb.zip"
      ],
      "execution_count": 27,
      "outputs": [
        {
          "output_type": "stream",
          "name": "stdout",
          "text": [
            "Archive:  /content/cvcclinicdb.zip\n",
            "replace PNG/Ground Truth/1.png? [y]es, [n]o, [A]ll, [N]one, [r]ename: "
          ]
        }
      ]
    },
    {
      "cell_type": "code",
      "metadata": {
        "colab": {
          "base_uri": "https://localhost:8080/"
        },
        "id": "09-5oE-VJIrO",
        "outputId": "aeda8ae0-f9c8-4ccb-ec0d-7df73d799a8a"
      },
      "source": [
        "!unzip /content/cvcclinicdb.zip"
      ],
      "execution_count": null,
      "outputs": [
        {
          "output_type": "stream",
          "name": "stdout",
          "text": [
            "Archive:  /content/cvcclinicdb.zip\n",
            "replace PNG/Ground Truth/1.png? [y]es, [n]o, [A]ll, [N]one, [r]ename: "
          ]
        }
      ]
    },
    {
      "cell_type": "markdown",
      "metadata": {
        "id": "J1zY0E8mld8L"
      },
      "source": [
        "#2-Import necessary libraries"
      ]
    },
    {
      "cell_type": "code",
      "metadata": {
        "id": "vPlCDo3rRjSn"
      },
      "source": [
        "import os\n",
        "from glob import glob\n",
        "os.environ[\"TF_CPP_MIN_LOG_LEVEL\"]=\"2\"\n",
        "import numpy as np\n",
        "from tqdm import tqdm\n",
        "import cv2\n",
        "import tensorflow as tf\n",
        "from sklearn.model_selection import train_test_split\n",
        "from tensorflow.keras.layers import Conv2D,Concatenate,BatchNormalization,Activation,UpSampling2D,MaxPool2D,Input\n",
        "from tensorflow.keras.models import Model \n",
        "from tensorflow.keras.callbacks import EarlyStopping,ModelCheckpoint,ReduceLROnPlateau,CSVLogger,TensorBoard\n",
        "from tensorflow.keras.metrics import Recall,Precision\n",
        "from tensorflow.keras.utils import CustomObjectScope"
      ],
      "execution_count": 55,
      "outputs": []
    },
    {
      "cell_type": "markdown",
      "metadata": {
        "id": "nYVX_zjHlsAg"
      },
      "source": [
        "#3-Preparing the dataset"
      ]
    },
    {
      "cell_type": "code",
      "metadata": {
        "colab": {
          "base_uri": "https://localhost:8080/"
        },
        "id": "NyXR0pH1SgUb",
        "outputId": "1a5d3bd5-370a-4b3d-c934-c7dc8d7c6113"
      },
      "source": [
        "def load_data(path,split=0.1):\n",
        "\n",
        "  image=sorted(glob(os.path.join(path,\"/content/PNG/Original/*\")))\n",
        "  Ground_truth=sorted(glob(os.path.join(path,\"/content/PNG/Ground Truth/*\")))\n",
        "\n",
        "  total_size=len(image)\n",
        "  valid_size=int(split*total_size)\n",
        "  test_size=int(split*total_size)\n",
        "\n",
        "  x_train,x_valid=train_test_split(image,test_size=valid_size,random_state=42)\n",
        "  y_train,y_valid=train_test_split(Ground_truth,test_size=valid_size,random_state=42)\n",
        "\n",
        "  x_train,x_test=train_test_split(x_train,test_size=valid_size,random_state=42)\n",
        "  y_train,y_test=train_test_split(y_train,test_size=valid_size,random_state=42)\n",
        "\n",
        "  return (x_train,y_train) , (x_valid,y_valid) , (x_test,y_test)\n",
        "\n",
        "def read_image(path):\n",
        "\n",
        "  path=path.decode()\n",
        "  x=cv2.imread(path,cv2.IMREAD_COLOR)\n",
        "  x=cv2.resize(x,(256,256))\n",
        "  x=x/255.0\n",
        "\n",
        "  return x\n",
        "\n",
        "def read_Ground_truth(path):\n",
        "\n",
        "  path=path.decode()\n",
        "  x=cv2.imread(path,cv2.IMREAD_GRAYSCALE)\n",
        "  x=cv2.resize(x,(256,256))\n",
        "  x=x/255.0\n",
        "  x=np.expand_dims(x,axis=-1)\n",
        "\n",
        "  return x\n",
        "\n",
        "def tf_parse(x,y):\n",
        "  def _parse(x,y):\n",
        "    x=read_image(x)\n",
        "    y=read_Ground_truth(y)\n",
        "\n",
        "    return x,y\n",
        "  \n",
        "  x,y=tf.numpy_function(_parse,[x,y],[tf.float64,tf.float64])\n",
        "  x.set_shape([256,256,3])\n",
        "  y.set_shape([256,256,1])\n",
        "\n",
        "  return x , y\n",
        "\n",
        "\n",
        "\n",
        "\n",
        "\n",
        "\n",
        "def tf_dataset(x,y,batch=8):\n",
        "  dataset=tf.data.Dataset.from_tensor_slices((x,y))\n",
        "  dataset=dataset.map(tf_parse)\n",
        "  dataset=dataset.batch(batch)\n",
        "  dataset=dataset.repeat()\n",
        "\n",
        "  return dataset\n",
        "\n",
        "\n",
        "\n",
        "\n",
        "  print(total_size)\n",
        "  print(valid_size)\n",
        "  print(test_size)\n",
        "\n",
        "if __name__==\"__main__\":\n",
        "  np.random.seed(42)\n",
        "  tf.random.set_seed(42)\n",
        "\n",
        "  path=\"CVC\"\n",
        "  (x_train,y_train) , (x_valid,y_valid) , (x_test,y_test)=load_data(path)\n",
        "  print(len(x_train),len(x_valid),len(x_test))\n",
        "\n",
        "\n",
        "  ds=tf_dataset(x_test,y_test)\n",
        "\n",
        "  for x , y in ds:\n",
        "    print(x.shape,y.shape)\n",
        "    break\n"
      ],
      "execution_count": 56,
      "outputs": [
        {
          "output_type": "stream",
          "name": "stdout",
          "text": [
            "490 61 61\n",
            "(8, 256, 256, 3) (8, 256, 256, 1)\n"
          ]
        }
      ]
    },
    {
      "cell_type": "markdown",
      "metadata": {
        "id": "yp8CL3URmOw7"
      },
      "source": [
        "#4-Building U-Net architecture"
      ]
    },
    {
      "cell_type": "code",
      "metadata": {
        "colab": {
          "base_uri": "https://localhost:8080/"
        },
        "id": "3e4DwfHgmXdJ",
        "outputId": "595b8f0d-9dbd-432b-f1a0-d31d45af1ebd"
      },
      "source": [
        "def conv_block(x,n_filters):\n",
        "\n",
        "  x=Conv2D(n_filters,3,padding=\"same\")(x)\n",
        "  x=BatchNormalization()(x)\n",
        "  x=Activation(\"relu\")(x)\n",
        "\n",
        "  x=Conv2D(n_filters,3,padding=\"same\")(x)\n",
        "  x=BatchNormalization()(x)\n",
        "  x=Activation(\"relu\")(x)\n",
        "\n",
        "  return x\n",
        "\n",
        "def build_model():\n",
        "  size=256\n",
        "  n_filters=[16,32,48,64]\n",
        "  inputs=Input(shape=(256,256,3))\n",
        "\n",
        "  skip_x=[]\n",
        "  x=inputs\n",
        "\n",
        "  #Encoder\n",
        "\n",
        "  for f in n_filters:\n",
        "    x=conv_block(x,f)\n",
        "    skip_x.append(x)\n",
        "    x=MaxPool2D((2,2))(x)\n",
        "\n",
        "  #Bridge\n",
        "  x=conv_block(x,n_filters[-1])\n",
        "  n_filters.reverse()\n",
        "  skip_x.reverse()\n",
        "\n",
        "  #Decoder\n",
        "\n",
        "  for i , f in enumerate(n_filters):\n",
        "    x=UpSampling2D((2,2))(x)\n",
        "    xs=skip_x[i]\n",
        "    x=Concatenate()([x,xs])\n",
        "    x=conv_block(x,f)\n",
        "\n",
        "  #outputs\n",
        "  x=Conv2D(1,(1,1),padding=\"same\")(x)\n",
        "  x=Activation(\"sigmoid\")(x)\n",
        "\n",
        "  return Model(inputs,x)\n",
        "\n",
        "if __name__==\"__main__\":\n",
        "  model=build_model()\n",
        "  model.summary()"
      ],
      "execution_count": 57,
      "outputs": [
        {
          "output_type": "stream",
          "name": "stdout",
          "text": [
            "Model: \"model_6\"\n",
            "__________________________________________________________________________________________________\n",
            "Layer (type)                    Output Shape         Param #     Connected to                     \n",
            "==================================================================================================\n",
            "input_7 (InputLayer)            [(None, 256, 256, 3) 0                                            \n",
            "__________________________________________________________________________________________________\n",
            "conv2d_114 (Conv2D)             (None, 256, 256, 16) 448         input_7[0][0]                    \n",
            "__________________________________________________________________________________________________\n",
            "batch_normalization_108 (BatchN (None, 256, 256, 16) 64          conv2d_114[0][0]                 \n",
            "__________________________________________________________________________________________________\n",
            "activation_114 (Activation)     (None, 256, 256, 16) 0           batch_normalization_108[0][0]    \n",
            "__________________________________________________________________________________________________\n",
            "conv2d_115 (Conv2D)             (None, 256, 256, 16) 2320        activation_114[0][0]             \n",
            "__________________________________________________________________________________________________\n",
            "batch_normalization_109 (BatchN (None, 256, 256, 16) 64          conv2d_115[0][0]                 \n",
            "__________________________________________________________________________________________________\n",
            "activation_115 (Activation)     (None, 256, 256, 16) 0           batch_normalization_109[0][0]    \n",
            "__________________________________________________________________________________________________\n",
            "max_pooling2d_24 (MaxPooling2D) (None, 128, 128, 16) 0           activation_115[0][0]             \n",
            "__________________________________________________________________________________________________\n",
            "conv2d_116 (Conv2D)             (None, 128, 128, 32) 4640        max_pooling2d_24[0][0]           \n",
            "__________________________________________________________________________________________________\n",
            "batch_normalization_110 (BatchN (None, 128, 128, 32) 128         conv2d_116[0][0]                 \n",
            "__________________________________________________________________________________________________\n",
            "activation_116 (Activation)     (None, 128, 128, 32) 0           batch_normalization_110[0][0]    \n",
            "__________________________________________________________________________________________________\n",
            "conv2d_117 (Conv2D)             (None, 128, 128, 32) 9248        activation_116[0][0]             \n",
            "__________________________________________________________________________________________________\n",
            "batch_normalization_111 (BatchN (None, 128, 128, 32) 128         conv2d_117[0][0]                 \n",
            "__________________________________________________________________________________________________\n",
            "activation_117 (Activation)     (None, 128, 128, 32) 0           batch_normalization_111[0][0]    \n",
            "__________________________________________________________________________________________________\n",
            "max_pooling2d_25 (MaxPooling2D) (None, 64, 64, 32)   0           activation_117[0][0]             \n",
            "__________________________________________________________________________________________________\n",
            "conv2d_118 (Conv2D)             (None, 64, 64, 48)   13872       max_pooling2d_25[0][0]           \n",
            "__________________________________________________________________________________________________\n",
            "batch_normalization_112 (BatchN (None, 64, 64, 48)   192         conv2d_118[0][0]                 \n",
            "__________________________________________________________________________________________________\n",
            "activation_118 (Activation)     (None, 64, 64, 48)   0           batch_normalization_112[0][0]    \n",
            "__________________________________________________________________________________________________\n",
            "conv2d_119 (Conv2D)             (None, 64, 64, 48)   20784       activation_118[0][0]             \n",
            "__________________________________________________________________________________________________\n",
            "batch_normalization_113 (BatchN (None, 64, 64, 48)   192         conv2d_119[0][0]                 \n",
            "__________________________________________________________________________________________________\n",
            "activation_119 (Activation)     (None, 64, 64, 48)   0           batch_normalization_113[0][0]    \n",
            "__________________________________________________________________________________________________\n",
            "max_pooling2d_26 (MaxPooling2D) (None, 32, 32, 48)   0           activation_119[0][0]             \n",
            "__________________________________________________________________________________________________\n",
            "conv2d_120 (Conv2D)             (None, 32, 32, 64)   27712       max_pooling2d_26[0][0]           \n",
            "__________________________________________________________________________________________________\n",
            "batch_normalization_114 (BatchN (None, 32, 32, 64)   256         conv2d_120[0][0]                 \n",
            "__________________________________________________________________________________________________\n",
            "activation_120 (Activation)     (None, 32, 32, 64)   0           batch_normalization_114[0][0]    \n",
            "__________________________________________________________________________________________________\n",
            "conv2d_121 (Conv2D)             (None, 32, 32, 64)   36928       activation_120[0][0]             \n",
            "__________________________________________________________________________________________________\n",
            "batch_normalization_115 (BatchN (None, 32, 32, 64)   256         conv2d_121[0][0]                 \n",
            "__________________________________________________________________________________________________\n",
            "activation_121 (Activation)     (None, 32, 32, 64)   0           batch_normalization_115[0][0]    \n",
            "__________________________________________________________________________________________________\n",
            "max_pooling2d_27 (MaxPooling2D) (None, 16, 16, 64)   0           activation_121[0][0]             \n",
            "__________________________________________________________________________________________________\n",
            "conv2d_122 (Conv2D)             (None, 16, 16, 64)   36928       max_pooling2d_27[0][0]           \n",
            "__________________________________________________________________________________________________\n",
            "batch_normalization_116 (BatchN (None, 16, 16, 64)   256         conv2d_122[0][0]                 \n",
            "__________________________________________________________________________________________________\n",
            "activation_122 (Activation)     (None, 16, 16, 64)   0           batch_normalization_116[0][0]    \n",
            "__________________________________________________________________________________________________\n",
            "conv2d_123 (Conv2D)             (None, 16, 16, 64)   36928       activation_122[0][0]             \n",
            "__________________________________________________________________________________________________\n",
            "batch_normalization_117 (BatchN (None, 16, 16, 64)   256         conv2d_123[0][0]                 \n",
            "__________________________________________________________________________________________________\n",
            "activation_123 (Activation)     (None, 16, 16, 64)   0           batch_normalization_117[0][0]    \n",
            "__________________________________________________________________________________________________\n",
            "up_sampling2d_24 (UpSampling2D) (None, 32, 32, 64)   0           activation_123[0][0]             \n",
            "__________________________________________________________________________________________________\n",
            "concatenate_24 (Concatenate)    (None, 32, 32, 128)  0           up_sampling2d_24[0][0]           \n",
            "                                                                 activation_121[0][0]             \n",
            "__________________________________________________________________________________________________\n",
            "conv2d_124 (Conv2D)             (None, 32, 32, 64)   73792       concatenate_24[0][0]             \n",
            "__________________________________________________________________________________________________\n",
            "batch_normalization_118 (BatchN (None, 32, 32, 64)   256         conv2d_124[0][0]                 \n",
            "__________________________________________________________________________________________________\n",
            "activation_124 (Activation)     (None, 32, 32, 64)   0           batch_normalization_118[0][0]    \n",
            "__________________________________________________________________________________________________\n",
            "conv2d_125 (Conv2D)             (None, 32, 32, 64)   36928       activation_124[0][0]             \n",
            "__________________________________________________________________________________________________\n",
            "batch_normalization_119 (BatchN (None, 32, 32, 64)   256         conv2d_125[0][0]                 \n",
            "__________________________________________________________________________________________________\n",
            "activation_125 (Activation)     (None, 32, 32, 64)   0           batch_normalization_119[0][0]    \n",
            "__________________________________________________________________________________________________\n",
            "up_sampling2d_25 (UpSampling2D) (None, 64, 64, 64)   0           activation_125[0][0]             \n",
            "__________________________________________________________________________________________________\n",
            "concatenate_25 (Concatenate)    (None, 64, 64, 112)  0           up_sampling2d_25[0][0]           \n",
            "                                                                 activation_119[0][0]             \n",
            "__________________________________________________________________________________________________\n",
            "conv2d_126 (Conv2D)             (None, 64, 64, 48)   48432       concatenate_25[0][0]             \n",
            "__________________________________________________________________________________________________\n",
            "batch_normalization_120 (BatchN (None, 64, 64, 48)   192         conv2d_126[0][0]                 \n",
            "__________________________________________________________________________________________________\n",
            "activation_126 (Activation)     (None, 64, 64, 48)   0           batch_normalization_120[0][0]    \n",
            "__________________________________________________________________________________________________\n",
            "conv2d_127 (Conv2D)             (None, 64, 64, 48)   20784       activation_126[0][0]             \n",
            "__________________________________________________________________________________________________\n",
            "batch_normalization_121 (BatchN (None, 64, 64, 48)   192         conv2d_127[0][0]                 \n",
            "__________________________________________________________________________________________________\n",
            "activation_127 (Activation)     (None, 64, 64, 48)   0           batch_normalization_121[0][0]    \n",
            "__________________________________________________________________________________________________\n",
            "up_sampling2d_26 (UpSampling2D) (None, 128, 128, 48) 0           activation_127[0][0]             \n",
            "__________________________________________________________________________________________________\n",
            "concatenate_26 (Concatenate)    (None, 128, 128, 80) 0           up_sampling2d_26[0][0]           \n",
            "                                                                 activation_117[0][0]             \n",
            "__________________________________________________________________________________________________\n",
            "conv2d_128 (Conv2D)             (None, 128, 128, 32) 23072       concatenate_26[0][0]             \n",
            "__________________________________________________________________________________________________\n",
            "batch_normalization_122 (BatchN (None, 128, 128, 32) 128         conv2d_128[0][0]                 \n",
            "__________________________________________________________________________________________________\n",
            "activation_128 (Activation)     (None, 128, 128, 32) 0           batch_normalization_122[0][0]    \n",
            "__________________________________________________________________________________________________\n",
            "conv2d_129 (Conv2D)             (None, 128, 128, 32) 9248        activation_128[0][0]             \n",
            "__________________________________________________________________________________________________\n",
            "batch_normalization_123 (BatchN (None, 128, 128, 32) 128         conv2d_129[0][0]                 \n",
            "__________________________________________________________________________________________________\n",
            "activation_129 (Activation)     (None, 128, 128, 32) 0           batch_normalization_123[0][0]    \n",
            "__________________________________________________________________________________________________\n",
            "up_sampling2d_27 (UpSampling2D) (None, 256, 256, 32) 0           activation_129[0][0]             \n",
            "__________________________________________________________________________________________________\n",
            "concatenate_27 (Concatenate)    (None, 256, 256, 48) 0           up_sampling2d_27[0][0]           \n",
            "                                                                 activation_115[0][0]             \n",
            "__________________________________________________________________________________________________\n",
            "conv2d_130 (Conv2D)             (None, 256, 256, 16) 6928        concatenate_27[0][0]             \n",
            "__________________________________________________________________________________________________\n",
            "batch_normalization_124 (BatchN (None, 256, 256, 16) 64          conv2d_130[0][0]                 \n",
            "__________________________________________________________________________________________________\n",
            "activation_130 (Activation)     (None, 256, 256, 16) 0           batch_normalization_124[0][0]    \n",
            "__________________________________________________________________________________________________\n",
            "conv2d_131 (Conv2D)             (None, 256, 256, 16) 2320        activation_130[0][0]             \n",
            "__________________________________________________________________________________________________\n",
            "batch_normalization_125 (BatchN (None, 256, 256, 16) 64          conv2d_131[0][0]                 \n",
            "__________________________________________________________________________________________________\n",
            "activation_131 (Activation)     (None, 256, 256, 16) 0           batch_normalization_125[0][0]    \n",
            "__________________________________________________________________________________________________\n",
            "conv2d_132 (Conv2D)             (None, 256, 256, 1)  17          activation_131[0][0]             \n",
            "__________________________________________________________________________________________________\n",
            "activation_132 (Activation)     (None, 256, 256, 1)  0           conv2d_132[0][0]                 \n",
            "==================================================================================================\n",
            "Total params: 414,401\n",
            "Trainable params: 412,865\n",
            "Non-trainable params: 1,536\n",
            "__________________________________________________________________________________________________\n"
          ]
        }
      ]
    },
    {
      "cell_type": "markdown",
      "metadata": {
        "id": "H8APCLZV1Eas"
      },
      "source": [
        "#5-Train dataset"
      ]
    },
    {
      "cell_type": "markdown",
      "metadata": {
        "id": "pL4lpRDo7IYJ"
      },
      "source": [
        "##5-1-define iou"
      ]
    },
    {
      "cell_type": "code",
      "metadata": {
        "id": "KhKycGML7T8R"
      },
      "source": [
        "def iou(y_true,y_pred):\n",
        "  def f(y_true,y_pred):\n",
        "    intersection=(y_true*y_pred).sum()\n",
        "    union=y_true.sum()+y_pred.sum()-intersection\n",
        "\n",
        "    x=(intersection+1e-15)/(union+1e-15)\n",
        "    x=x.astype(np.float32)\n",
        "    return x\n",
        "\n",
        "  return tf.numpy_function(f,[y_true,y_pred],tf.float32)"
      ],
      "execution_count": 58,
      "outputs": []
    },
    {
      "cell_type": "markdown",
      "metadata": {
        "id": "A9r_miZ65vML"
      },
      "source": [
        "\n",
        "##5-2-set up hyperparmeters"
      ]
    },
    {
      "cell_type": "code",
      "metadata": {
        "colab": {
          "base_uri": "https://localhost:8080/"
        },
        "id": "N42QuhNE53s8",
        "outputId": "af2752c3-fa4e-4986-b3cf-67635cbebc98"
      },
      "source": [
        "batch=8\n",
        "lr=1e-4\n",
        "epochs=70\n",
        "\n",
        "train_dataset=tf_dataset(x_train,y_train,batch=batch)\n",
        "valid_dataset=tf_dataset(x_valid,y_valid,batch=batch)\n",
        "\n",
        "model=build_model()\n",
        "optimizer=tf.keras.optimizers.Adam(lr)\n",
        "metrics=[\"accuracy\",Recall(),Precision(),iou]\n",
        "\n",
        "model.compile(loss=\"binary_crossentropy\",optimizer=optimizer,metrics=metrics)\n",
        "\n",
        "callbacks=[\n",
        "           \n",
        "           ModelCheckpoint(\"/content/drive/MyDrive/Colab Notebooks/model.h5\"),\n",
        "           ReduceLROnPlateau(monitor=\"val_loss\",factor=0.1,patience=3),\n",
        "           CSVLogger(\"/content/drive/MyDrive/Colab Notebooks/data.csv\"),\n",
        "           TensorBoard(),\n",
        "           EarlyStopping(monitor=\"val_loss\",patience=10,restore_best_weights=False)\n",
        "]\n",
        "\n",
        "train_steps=len(x_train)//batch\n",
        "valid_steps=len(x_valid)//batch\n",
        "\n",
        "if len(x_train) % batch !=0:\n",
        "  train_steps+=1\n",
        "\n",
        "if len(x_valid) % batch !=0:\n",
        "  valid_steps+=1\n",
        "\n",
        "\n",
        "model.fit(\n",
        "    \n",
        "    train_dataset,\n",
        "    validation_data=valid_dataset,\n",
        "    epochs=epochs,\n",
        "    steps_per_epoch=train_steps,\n",
        "    validation_steps=valid_steps,\n",
        "    callbacks=callbacks,\n",
        "    shuffle=False\n",
        ")"
      ],
      "execution_count": 59,
      "outputs": [
        {
          "output_type": "stream",
          "name": "stdout",
          "text": [
            "Epoch 1/70\n",
            "62/62 [==============================] - 19s 266ms/step - loss: 0.3582 - accuracy: 0.8855 - recall_3: 0.2518 - precision_3: 0.3630 - iou: 0.1154 - val_loss: 0.5404 - val_accuracy: 0.9124 - val_recall_3: 0.0000e+00 - val_precision_3: 0.0000e+00 - val_iou: 0.0742\n",
            "Epoch 2/70\n",
            "62/62 [==============================] - 14s 231ms/step - loss: 0.2841 - accuracy: 0.9159 - recall_3: 0.4666 - precision_3: 0.5824 - iou: 0.1606 - val_loss: 0.3901 - val_accuracy: 0.9124 - val_recall_3: 0.0000e+00 - val_precision_3: 0.0000e+00 - val_iou: 0.0678\n",
            "Epoch 3/70\n",
            "62/62 [==============================] - 14s 222ms/step - loss: 0.2422 - accuracy: 0.9334 - recall_3: 0.5696 - precision_3: 0.6920 - iou: 0.2123 - val_loss: 0.3251 - val_accuracy: 0.9124 - val_recall_3: 0.0000e+00 - val_precision_3: 0.0000e+00 - val_iou: 0.0615\n",
            "Epoch 4/70\n",
            "62/62 [==============================] - 14s 222ms/step - loss: 0.2124 - accuracy: 0.9446 - recall_3: 0.6266 - precision_3: 0.7658 - iou: 0.2549 - val_loss: 0.3025 - val_accuracy: 0.9123 - val_recall_3: 0.0000e+00 - val_precision_3: 0.0000e+00 - val_iou: 0.0557\n",
            "Epoch 5/70\n",
            "62/62 [==============================] - 14s 231ms/step - loss: 0.1901 - accuracy: 0.9524 - recall_3: 0.6686 - precision_3: 0.8150 - iou: 0.2902 - val_loss: 0.2930 - val_accuracy: 0.9118 - val_recall_3: 0.0074 - val_precision_3: 0.3509 - val_iou: 0.0563\n",
            "Epoch 6/70\n",
            "62/62 [==============================] - 14s 221ms/step - loss: 0.1720 - accuracy: 0.9582 - recall_3: 0.7049 - precision_3: 0.8477 - iou: 0.3206 - val_loss: 0.2744 - val_accuracy: 0.9152 - val_recall_3: 0.0521 - val_precision_3: 0.7199 - val_iou: 0.0746\n",
            "Epoch 7/70\n",
            "62/62 [==============================] - 14s 220ms/step - loss: 0.1574 - accuracy: 0.9625 - recall_3: 0.7350 - precision_3: 0.8678 - iou: 0.3473 - val_loss: 0.2532 - val_accuracy: 0.9227 - val_recall_3: 0.2351 - val_precision_3: 0.6747 - val_iou: 0.1332\n",
            "Epoch 8/70\n",
            "62/62 [==============================] - 14s 220ms/step - loss: 0.1469 - accuracy: 0.9649 - recall_3: 0.7559 - precision_3: 0.8768 - iou: 0.3686 - val_loss: 0.2284 - val_accuracy: 0.9285 - val_recall_3: 0.4798 - val_precision_3: 0.6271 - val_iou: 0.2111\n",
            "Epoch 9/70\n",
            "62/62 [==============================] - 14s 230ms/step - loss: 0.1404 - accuracy: 0.9655 - recall_3: 0.7622 - precision_3: 0.8773 - iou: 0.3815 - val_loss: 0.2099 - val_accuracy: 0.9370 - val_recall_3: 0.5695 - val_precision_3: 0.6743 - val_iou: 0.2534\n",
            "Epoch 10/70\n",
            "62/62 [==============================] - 14s 230ms/step - loss: 0.1274 - accuracy: 0.9703 - recall_3: 0.7913 - precision_3: 0.9031 - iou: 0.4074 - val_loss: 0.1812 - val_accuracy: 0.9477 - val_recall_3: 0.6615 - val_precision_3: 0.7309 - val_iou: 0.3063\n",
            "Epoch 11/70\n",
            "62/62 [==============================] - 14s 221ms/step - loss: 0.1178 - accuracy: 0.9731 - recall_3: 0.8151 - precision_3: 0.9125 - iou: 0.4307 - val_loss: 0.1864 - val_accuracy: 0.9431 - val_recall_3: 0.7041 - val_precision_3: 0.6768 - val_iou: 0.3160\n",
            "Epoch 12/70\n",
            "62/62 [==============================] - 14s 231ms/step - loss: 0.1102 - accuracy: 0.9751 - recall_3: 0.8323 - precision_3: 0.9192 - iou: 0.4503 - val_loss: 0.1886 - val_accuracy: 0.9412 - val_recall_3: 0.7742 - val_precision_3: 0.6466 - val_iou: 0.3297\n",
            "Epoch 13/70\n",
            "62/62 [==============================] - 14s 222ms/step - loss: 0.1043 - accuracy: 0.9761 - recall_3: 0.8411 - precision_3: 0.9218 - iou: 0.4661 - val_loss: 0.1847 - val_accuracy: 0.9413 - val_recall_3: 0.8163 - val_precision_3: 0.6386 - val_iou: 0.3532\n",
            "Epoch 14/70\n",
            "62/62 [==============================] - 14s 232ms/step - loss: 0.1012 - accuracy: 0.9765 - recall_3: 0.8393 - precision_3: 0.9269 - iou: 0.4732 - val_loss: 0.1329 - val_accuracy: 0.9634 - val_recall_3: 0.7755 - val_precision_3: 0.8161 - val_iou: 0.3926\n",
            "Epoch 15/70\n",
            "62/62 [==============================] - 14s 221ms/step - loss: 0.0947 - accuracy: 0.9796 - recall_3: 0.8644 - precision_3: 0.9374 - iou: 0.4883 - val_loss: 0.1306 - val_accuracy: 0.9639 - val_recall_3: 0.7723 - val_precision_3: 0.8230 - val_iou: 0.3951\n",
            "Epoch 16/70\n",
            "62/62 [==============================] - 14s 222ms/step - loss: 0.0928 - accuracy: 0.9804 - recall_3: 0.8708 - precision_3: 0.9402 - iou: 0.4930 - val_loss: 0.1292 - val_accuracy: 0.9642 - val_recall_3: 0.7719 - val_precision_3: 0.8261 - val_iou: 0.3975\n",
            "Epoch 17/70\n",
            "62/62 [==============================] - 14s 221ms/step - loss: 0.0914 - accuracy: 0.9810 - recall_3: 0.8748 - precision_3: 0.9425 - iou: 0.4967 - val_loss: 0.1285 - val_accuracy: 0.9643 - val_recall_3: 0.7715 - val_precision_3: 0.8269 - val_iou: 0.3992\n",
            "Epoch 18/70\n",
            "62/62 [==============================] - 14s 233ms/step - loss: 0.0902 - accuracy: 0.9814 - recall_3: 0.8781 - precision_3: 0.9445 - iou: 0.5000 - val_loss: 0.1280 - val_accuracy: 0.9643 - val_recall_3: 0.7718 - val_precision_3: 0.8271 - val_iou: 0.4007\n",
            "Epoch 19/70\n",
            "62/62 [==============================] - 14s 222ms/step - loss: 0.0891 - accuracy: 0.9818 - recall_3: 0.8809 - precision_3: 0.9460 - iou: 0.5031 - val_loss: 0.1276 - val_accuracy: 0.9643 - val_recall_3: 0.7719 - val_precision_3: 0.8273 - val_iou: 0.4020\n",
            "Epoch 20/70\n",
            "62/62 [==============================] - 14s 221ms/step - loss: 0.0880 - accuracy: 0.9822 - recall_3: 0.8835 - precision_3: 0.9474 - iou: 0.5061 - val_loss: 0.1274 - val_accuracy: 0.9643 - val_recall_3: 0.7722 - val_precision_3: 0.8265 - val_iou: 0.4032\n",
            "Epoch 21/70\n",
            "62/62 [==============================] - 14s 231ms/step - loss: 0.0870 - accuracy: 0.9825 - recall_3: 0.8861 - precision_3: 0.9487 - iou: 0.5090 - val_loss: 0.1273 - val_accuracy: 0.9642 - val_recall_3: 0.7730 - val_precision_3: 0.8250 - val_iou: 0.4043\n",
            "Epoch 22/70\n",
            "62/62 [==============================] - 14s 232ms/step - loss: 0.0860 - accuracy: 0.9828 - recall_3: 0.8885 - precision_3: 0.9499 - iou: 0.5118 - val_loss: 0.1272 - val_accuracy: 0.9641 - val_recall_3: 0.7734 - val_precision_3: 0.8240 - val_iou: 0.4052\n",
            "Epoch 23/70\n",
            "62/62 [==============================] - 14s 222ms/step - loss: 0.0851 - accuracy: 0.9832 - recall_3: 0.8908 - precision_3: 0.9511 - iou: 0.5146 - val_loss: 0.1271 - val_accuracy: 0.9640 - val_recall_3: 0.7736 - val_precision_3: 0.8230 - val_iou: 0.4063\n",
            "Epoch 24/70\n",
            "62/62 [==============================] - 15s 234ms/step - loss: 0.0841 - accuracy: 0.9834 - recall_3: 0.8929 - precision_3: 0.9522 - iou: 0.5174 - val_loss: 0.1269 - val_accuracy: 0.9639 - val_recall_3: 0.7731 - val_precision_3: 0.8229 - val_iou: 0.4072\n",
            "Epoch 25/70\n",
            "62/62 [==============================] - 14s 224ms/step - loss: 0.0832 - accuracy: 0.9837 - recall_3: 0.8949 - precision_3: 0.9533 - iou: 0.5200 - val_loss: 0.1268 - val_accuracy: 0.9639 - val_recall_3: 0.7724 - val_precision_3: 0.8227 - val_iou: 0.4081\n",
            "Epoch 26/70\n",
            "62/62 [==============================] - 14s 233ms/step - loss: 0.0824 - accuracy: 0.9840 - recall_3: 0.8968 - precision_3: 0.9543 - iou: 0.5227 - val_loss: 0.1267 - val_accuracy: 0.9638 - val_recall_3: 0.7725 - val_precision_3: 0.8222 - val_iou: 0.4091\n",
            "Epoch 27/70\n",
            "62/62 [==============================] - 14s 221ms/step - loss: 0.0815 - accuracy: 0.9842 - recall_3: 0.8986 - precision_3: 0.9553 - iou: 0.5253 - val_loss: 0.1265 - val_accuracy: 0.9638 - val_recall_3: 0.7722 - val_precision_3: 0.8220 - val_iou: 0.4102\n",
            "Epoch 28/70\n",
            "62/62 [==============================] - 14s 221ms/step - loss: 0.0807 - accuracy: 0.9844 - recall_3: 0.9002 - precision_3: 0.9562 - iou: 0.5279 - val_loss: 0.1264 - val_accuracy: 0.9637 - val_recall_3: 0.7720 - val_precision_3: 0.8215 - val_iou: 0.4112\n",
            "Epoch 29/70\n",
            "62/62 [==============================] - 14s 222ms/step - loss: 0.0799 - accuracy: 0.9847 - recall_3: 0.9018 - precision_3: 0.9571 - iou: 0.5304 - val_loss: 0.1263 - val_accuracy: 0.9637 - val_recall_3: 0.7705 - val_precision_3: 0.8219 - val_iou: 0.4119\n",
            "Epoch 30/70\n",
            "62/62 [==============================] - 14s 232ms/step - loss: 0.0790 - accuracy: 0.9849 - recall_3: 0.9034 - precision_3: 0.9580 - iou: 0.5330 - val_loss: 0.1263 - val_accuracy: 0.9636 - val_recall_3: 0.7705 - val_precision_3: 0.8210 - val_iou: 0.4130\n",
            "Epoch 31/70\n",
            "62/62 [==============================] - 14s 232ms/step - loss: 0.0782 - accuracy: 0.9851 - recall_3: 0.9049 - precision_3: 0.9588 - iou: 0.5355 - val_loss: 0.1262 - val_accuracy: 0.9636 - val_recall_3: 0.7705 - val_precision_3: 0.8205 - val_iou: 0.4140\n",
            "Epoch 32/70\n",
            "62/62 [==============================] - 14s 232ms/step - loss: 0.0774 - accuracy: 0.9853 - recall_3: 0.9064 - precision_3: 0.9597 - iou: 0.5381 - val_loss: 0.1261 - val_accuracy: 0.9635 - val_recall_3: 0.7706 - val_precision_3: 0.8199 - val_iou: 0.4152\n",
            "Epoch 33/70\n",
            "62/62 [==============================] - 14s 232ms/step - loss: 0.0767 - accuracy: 0.9855 - recall_3: 0.9078 - precision_3: 0.9605 - iou: 0.5406 - val_loss: 0.1260 - val_accuracy: 0.9634 - val_recall_3: 0.7700 - val_precision_3: 0.8196 - val_iou: 0.4162\n",
            "Epoch 34/70\n",
            "62/62 [==============================] - 14s 231ms/step - loss: 0.0759 - accuracy: 0.9857 - recall_3: 0.9091 - precision_3: 0.9613 - iou: 0.5431 - val_loss: 0.1259 - val_accuracy: 0.9634 - val_recall_3: 0.7705 - val_precision_3: 0.8186 - val_iou: 0.4174\n",
            "Epoch 35/70\n",
            "62/62 [==============================] - 14s 231ms/step - loss: 0.0751 - accuracy: 0.9859 - recall_3: 0.9105 - precision_3: 0.9621 - iou: 0.5456 - val_loss: 0.1258 - val_accuracy: 0.9634 - val_recall_3: 0.7698 - val_precision_3: 0.8190 - val_iou: 0.4184\n",
            "Epoch 36/70\n",
            "62/62 [==============================] - 14s 221ms/step - loss: 0.0743 - accuracy: 0.9861 - recall_3: 0.9118 - precision_3: 0.9629 - iou: 0.5480 - val_loss: 0.1257 - val_accuracy: 0.9633 - val_recall_3: 0.7694 - val_precision_3: 0.8189 - val_iou: 0.4194\n",
            "Epoch 37/70\n",
            "62/62 [==============================] - 14s 222ms/step - loss: 0.0736 - accuracy: 0.9863 - recall_3: 0.9131 - precision_3: 0.9637 - iou: 0.5505 - val_loss: 0.1257 - val_accuracy: 0.9633 - val_recall_3: 0.7690 - val_precision_3: 0.8184 - val_iou: 0.4202\n",
            "Epoch 38/70\n",
            "62/62 [==============================] - 14s 232ms/step - loss: 0.0728 - accuracy: 0.9865 - recall_3: 0.9144 - precision_3: 0.9645 - iou: 0.5530 - val_loss: 0.1257 - val_accuracy: 0.9632 - val_recall_3: 0.7689 - val_precision_3: 0.8179 - val_iou: 0.4212\n",
            "Epoch 39/70\n",
            "62/62 [==============================] - 14s 222ms/step - loss: 0.0721 - accuracy: 0.9868 - recall_3: 0.9160 - precision_3: 0.9660 - iou: 0.5549 - val_loss: 0.1260 - val_accuracy: 0.9630 - val_recall_3: 0.7746 - val_precision_3: 0.8121 - val_iou: 0.4230\n",
            "Epoch 40/70\n",
            "62/62 [==============================] - 14s 223ms/step - loss: 0.0719 - accuracy: 0.9868 - recall_3: 0.9170 - precision_3: 0.9657 - iou: 0.5556 - val_loss: 0.1259 - val_accuracy: 0.9630 - val_recall_3: 0.7731 - val_precision_3: 0.8133 - val_iou: 0.4231\n",
            "Epoch 41/70\n",
            "62/62 [==============================] - 15s 234ms/step - loss: 0.0718 - accuracy: 0.9868 - recall_3: 0.9171 - precision_3: 0.9659 - iou: 0.5559 - val_loss: 0.1258 - val_accuracy: 0.9630 - val_recall_3: 0.7723 - val_precision_3: 0.8140 - val_iou: 0.4231\n",
            "Epoch 42/70\n",
            "62/62 [==============================] - 14s 223ms/step - loss: 0.0717 - accuracy: 0.9869 - recall_3: 0.9177 - precision_3: 0.9658 - iou: 0.5562 - val_loss: 0.1259 - val_accuracy: 0.9630 - val_recall_3: 0.7723 - val_precision_3: 0.8138 - val_iou: 0.4231\n",
            "Epoch 43/70\n",
            "62/62 [==============================] - 14s 232ms/step - loss: 0.0717 - accuracy: 0.9869 - recall_3: 0.9177 - precision_3: 0.9658 - iou: 0.5562 - val_loss: 0.1259 - val_accuracy: 0.9630 - val_recall_3: 0.7723 - val_precision_3: 0.8138 - val_iou: 0.4231\n",
            "Epoch 44/70\n",
            "62/62 [==============================] - 14s 232ms/step - loss: 0.0717 - accuracy: 0.9869 - recall_3: 0.9177 - precision_3: 0.9659 - iou: 0.5563 - val_loss: 0.1259 - val_accuracy: 0.9630 - val_recall_3: 0.7723 - val_precision_3: 0.8138 - val_iou: 0.4232\n",
            "Epoch 45/70\n",
            "62/62 [==============================] - 14s 221ms/step - loss: 0.0717 - accuracy: 0.9869 - recall_3: 0.9177 - precision_3: 0.9659 - iou: 0.5563 - val_loss: 0.1259 - val_accuracy: 0.9630 - val_recall_3: 0.7723 - val_precision_3: 0.8137 - val_iou: 0.4232\n",
            "Epoch 46/70\n",
            "62/62 [==============================] - 14s 231ms/step - loss: 0.0717 - accuracy: 0.9869 - recall_3: 0.9177 - precision_3: 0.9659 - iou: 0.5563 - val_loss: 0.1259 - val_accuracy: 0.9630 - val_recall_3: 0.7724 - val_precision_3: 0.8137 - val_iou: 0.4232\n"
          ]
        },
        {
          "output_type": "execute_result",
          "data": {
            "text/plain": [
              "<keras.callbacks.History at 0x7f95c3220a50>"
            ]
          },
          "metadata": {},
          "execution_count": 59
        }
      ]
    },
    {
      "cell_type": "code",
      "metadata": {
        "id": "zE0hsqgfR-VE"
      },
      "source": [
        "model = models.load_model('/content/drive/MyDrive/Colab Notebooks/model.h5', custom_objects={'iou': iou})"
      ],
      "execution_count": 60,
      "outputs": []
    },
    {
      "cell_type": "code",
      "metadata": {
        "id": "CY3POl8Gd72C"
      },
      "source": [
        "Original_image=\"/content/PNG/Original/1.png\"\n",
        "original_mask=\"/content/PNG/Ground Truth/1.png\"\n",
        "img = cv2.imread(Original_image)\n",
        "img = cv2.resize(img ,(256, 256))\n",
        "img = img / 255\n",
        "img = img[np.newaxis, :, :, :]\n",
        "pred=model.predict(img)"
      ],
      "execution_count": 62,
      "outputs": []
    },
    {
      "cell_type": "code",
      "metadata": {
        "colab": {
          "base_uri": "https://localhost:8080/",
          "height": 261
        },
        "id": "k6AGU07rX4Ei",
        "outputId": "228c73dc-fb0a-4456-fc69-f2f7de9efa9b"
      },
      "source": [
        "import matplotlib.pyplot as plt\n",
        "plt.figure(figsize=(12,12))\n",
        "plt.subplot(1,3,1)\n",
        "plt.imshow(np.squeeze(img))\n",
        "plt.title('Original Image')\n",
        "plt.subplot(1,3,2)\n",
        "plt.imshow(np.squeeze(cv2.imread(original_mask)))\n",
        "plt.title('Original Mask')\n",
        "plt.subplot(1,3,3)\n",
        "plt.imshow(np.squeeze(pred) > .5)\n",
        "plt.title('Prediction')\n",
        "plt.show()"
      ],
      "execution_count": 63,
      "outputs": [
        {
          "output_type": "display_data",
          "data": {
            "image/png": "[encoded data removed]",
            "text/plain": [
              "<Figure size 864x864 with 3 Axes>"
            ]
          },
          "metadata": {
            "needs_background": "light"
          }
        }
      ]
    },
    {
      "cell_type": "code",
      "metadata": {
        "id": "pw2XF9G5Y3SK"
      },
      "source": [
        ""
      ],
      "execution_count": null,
      "outputs": []
    }
  ]
}